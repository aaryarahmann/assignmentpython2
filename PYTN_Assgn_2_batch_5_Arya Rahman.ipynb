{
 "cells": [
  {
   "cell_type": "code",
   "execution_count": 1,
   "id": "91c492d8",
   "metadata": {},
   "outputs": [],
   "source": [
    "#Import pustaka yang dibutuhkan\n",
    "import math\n",
    "import statistics\n",
    "import numpy as np\n",
    "import scipy.stats\n",
    "import pandas as pd"
   ]
  },
  {
   "cell_type": "code",
   "execution_count": 2,
   "id": "c902de43",
   "metadata": {},
   "outputs": [
    {
     "name": "stdout",
     "output_type": "stream",
     "text": [
      "Data downloaded and read into a dataframe\n"
     ]
    }
   ],
   "source": [
    "#Memanggil data yang akan digunakan\n",
    "df = pd.read_csv('C:\\\\Users\\\\Gaming\\\\Documents\\\\Jupiter\\\\archive2\\\\nyc-rolling-sales.csv')\n",
    "print('Data downloaded and read into a dataframe')"
   ]
  },
  {
   "cell_type": "markdown",
   "id": "1a1d02f5",
   "metadata": {},
   "source": [
    "### Eksplorasi Data"
   ]
  },
  {
   "cell_type": "code",
   "execution_count": 3,
   "id": "9c11cbc9",
   "metadata": {},
   "outputs": [
    {
     "name": "stdout",
     "output_type": "stream",
     "text": [
      "<class 'pandas.core.frame.DataFrame'>\n",
      "RangeIndex: 84548 entries, 0 to 84547\n",
      "Data columns (total 22 columns):\n",
      " #   Column                          Non-Null Count  Dtype \n",
      "---  ------                          --------------  ----- \n",
      " 0   Unnamed: 0                      84548 non-null  int64 \n",
      " 1   BOROUGH                         84548 non-null  int64 \n",
      " 2   NEIGHBORHOOD                    84548 non-null  object\n",
      " 3   BUILDING CLASS CATEGORY         84548 non-null  object\n",
      " 4   TAX CLASS AT PRESENT            84548 non-null  object\n",
      " 5   BLOCK                           84548 non-null  int64 \n",
      " 6   LOT                             84548 non-null  int64 \n",
      " 7   EASE-MENT                       84548 non-null  object\n",
      " 8   BUILDING CLASS AT PRESENT       84548 non-null  object\n",
      " 9   ADDRESS                         84548 non-null  object\n",
      " 10  APARTMENT NUMBER                84548 non-null  object\n",
      " 11  ZIP CODE                        84548 non-null  int64 \n",
      " 12  RESIDENTIAL UNITS               84548 non-null  int64 \n",
      " 13  COMMERCIAL UNITS                84548 non-null  int64 \n",
      " 14  TOTAL UNITS                     84548 non-null  int64 \n",
      " 15  LAND SQUARE FEET                84548 non-null  object\n",
      " 16  GROSS SQUARE FEET               84548 non-null  object\n",
      " 17  YEAR BUILT                      84548 non-null  int64 \n",
      " 18  TAX CLASS AT TIME OF SALE       84548 non-null  int64 \n",
      " 19  BUILDING CLASS AT TIME OF SALE  84548 non-null  object\n",
      " 20  SALE PRICE                      84548 non-null  object\n",
      " 21  SALE DATE                       84548 non-null  object\n",
      "dtypes: int64(10), object(12)\n",
      "memory usage: 14.2+ MB\n"
     ]
    }
   ],
   "source": [
    "#memeriksa tipe kolom pada data\n",
    "df.info()"
   ]
  },
  {
   "cell_type": "code",
   "execution_count": 4,
   "id": "f7948e28",
   "metadata": {},
   "outputs": [
    {
     "data": {
      "text/html": [
       "<div>\n",
       "<style scoped>\n",
       "    .dataframe tbody tr th:only-of-type {\n",
       "        vertical-align: middle;\n",
       "    }\n",
       "\n",
       "    .dataframe tbody tr th {\n",
       "        vertical-align: top;\n",
       "    }\n",
       "\n",
       "    .dataframe thead th {\n",
       "        text-align: right;\n",
       "    }\n",
       "</style>\n",
       "<table border=\"1\" class=\"dataframe\">\n",
       "  <thead>\n",
       "    <tr style=\"text-align: right;\">\n",
       "      <th></th>\n",
       "      <th>Unnamed: 0</th>\n",
       "      <th>BOROUGH</th>\n",
       "      <th>NEIGHBORHOOD</th>\n",
       "      <th>BUILDING CLASS CATEGORY</th>\n",
       "      <th>TAX CLASS AT PRESENT</th>\n",
       "      <th>BLOCK</th>\n",
       "      <th>LOT</th>\n",
       "      <th>EASE-MENT</th>\n",
       "      <th>BUILDING CLASS AT PRESENT</th>\n",
       "      <th>ADDRESS</th>\n",
       "      <th>...</th>\n",
       "      <th>RESIDENTIAL UNITS</th>\n",
       "      <th>COMMERCIAL UNITS</th>\n",
       "      <th>TOTAL UNITS</th>\n",
       "      <th>LAND SQUARE FEET</th>\n",
       "      <th>GROSS SQUARE FEET</th>\n",
       "      <th>YEAR BUILT</th>\n",
       "      <th>TAX CLASS AT TIME OF SALE</th>\n",
       "      <th>BUILDING CLASS AT TIME OF SALE</th>\n",
       "      <th>SALE PRICE</th>\n",
       "      <th>SALE DATE</th>\n",
       "    </tr>\n",
       "  </thead>\n",
       "  <tbody>\n",
       "    <tr>\n",
       "      <th>0</th>\n",
       "      <td>4</td>\n",
       "      <td>1</td>\n",
       "      <td>ALPHABET CITY</td>\n",
       "      <td>07 RENTALS - WALKUP APARTMENTS</td>\n",
       "      <td>2A</td>\n",
       "      <td>392</td>\n",
       "      <td>6</td>\n",
       "      <td></td>\n",
       "      <td>C2</td>\n",
       "      <td>153 AVENUE B</td>\n",
       "      <td>...</td>\n",
       "      <td>5</td>\n",
       "      <td>0</td>\n",
       "      <td>5</td>\n",
       "      <td>1633</td>\n",
       "      <td>6440</td>\n",
       "      <td>1900</td>\n",
       "      <td>2</td>\n",
       "      <td>C2</td>\n",
       "      <td>6625000</td>\n",
       "      <td>2017-07-19 00:00:00</td>\n",
       "    </tr>\n",
       "    <tr>\n",
       "      <th>1</th>\n",
       "      <td>5</td>\n",
       "      <td>1</td>\n",
       "      <td>ALPHABET CITY</td>\n",
       "      <td>07 RENTALS - WALKUP APARTMENTS</td>\n",
       "      <td>2</td>\n",
       "      <td>399</td>\n",
       "      <td>26</td>\n",
       "      <td></td>\n",
       "      <td>C7</td>\n",
       "      <td>234 EAST 4TH   STREET</td>\n",
       "      <td>...</td>\n",
       "      <td>28</td>\n",
       "      <td>3</td>\n",
       "      <td>31</td>\n",
       "      <td>4616</td>\n",
       "      <td>18690</td>\n",
       "      <td>1900</td>\n",
       "      <td>2</td>\n",
       "      <td>C7</td>\n",
       "      <td>-</td>\n",
       "      <td>2016-12-14 00:00:00</td>\n",
       "    </tr>\n",
       "    <tr>\n",
       "      <th>2</th>\n",
       "      <td>6</td>\n",
       "      <td>1</td>\n",
       "      <td>ALPHABET CITY</td>\n",
       "      <td>07 RENTALS - WALKUP APARTMENTS</td>\n",
       "      <td>2</td>\n",
       "      <td>399</td>\n",
       "      <td>39</td>\n",
       "      <td></td>\n",
       "      <td>C7</td>\n",
       "      <td>197 EAST 3RD   STREET</td>\n",
       "      <td>...</td>\n",
       "      <td>16</td>\n",
       "      <td>1</td>\n",
       "      <td>17</td>\n",
       "      <td>2212</td>\n",
       "      <td>7803</td>\n",
       "      <td>1900</td>\n",
       "      <td>2</td>\n",
       "      <td>C7</td>\n",
       "      <td>-</td>\n",
       "      <td>2016-12-09 00:00:00</td>\n",
       "    </tr>\n",
       "    <tr>\n",
       "      <th>3</th>\n",
       "      <td>7</td>\n",
       "      <td>1</td>\n",
       "      <td>ALPHABET CITY</td>\n",
       "      <td>07 RENTALS - WALKUP APARTMENTS</td>\n",
       "      <td>2B</td>\n",
       "      <td>402</td>\n",
       "      <td>21</td>\n",
       "      <td></td>\n",
       "      <td>C4</td>\n",
       "      <td>154 EAST 7TH STREET</td>\n",
       "      <td>...</td>\n",
       "      <td>10</td>\n",
       "      <td>0</td>\n",
       "      <td>10</td>\n",
       "      <td>2272</td>\n",
       "      <td>6794</td>\n",
       "      <td>1913</td>\n",
       "      <td>2</td>\n",
       "      <td>C4</td>\n",
       "      <td>3936272</td>\n",
       "      <td>2016-09-23 00:00:00</td>\n",
       "    </tr>\n",
       "    <tr>\n",
       "      <th>4</th>\n",
       "      <td>8</td>\n",
       "      <td>1</td>\n",
       "      <td>ALPHABET CITY</td>\n",
       "      <td>07 RENTALS - WALKUP APARTMENTS</td>\n",
       "      <td>2A</td>\n",
       "      <td>404</td>\n",
       "      <td>55</td>\n",
       "      <td></td>\n",
       "      <td>C2</td>\n",
       "      <td>301 EAST 10TH   STREET</td>\n",
       "      <td>...</td>\n",
       "      <td>6</td>\n",
       "      <td>0</td>\n",
       "      <td>6</td>\n",
       "      <td>2369</td>\n",
       "      <td>4615</td>\n",
       "      <td>1900</td>\n",
       "      <td>2</td>\n",
       "      <td>C2</td>\n",
       "      <td>8000000</td>\n",
       "      <td>2016-11-17 00:00:00</td>\n",
       "    </tr>\n",
       "  </tbody>\n",
       "</table>\n",
       "<p>5 rows × 22 columns</p>\n",
       "</div>"
      ],
      "text/plain": [
       "   Unnamed: 0  BOROUGH   NEIGHBORHOOD  \\\n",
       "0           4        1  ALPHABET CITY   \n",
       "1           5        1  ALPHABET CITY   \n",
       "2           6        1  ALPHABET CITY   \n",
       "3           7        1  ALPHABET CITY   \n",
       "4           8        1  ALPHABET CITY   \n",
       "\n",
       "                       BUILDING CLASS CATEGORY TAX CLASS AT PRESENT  BLOCK  \\\n",
       "0  07 RENTALS - WALKUP APARTMENTS                                2A    392   \n",
       "1  07 RENTALS - WALKUP APARTMENTS                                 2    399   \n",
       "2  07 RENTALS - WALKUP APARTMENTS                                 2    399   \n",
       "3  07 RENTALS - WALKUP APARTMENTS                                2B    402   \n",
       "4  07 RENTALS - WALKUP APARTMENTS                                2A    404   \n",
       "\n",
       "   LOT EASE-MENT BUILDING CLASS AT PRESENT                 ADDRESS  ...  \\\n",
       "0    6                                  C2            153 AVENUE B  ...   \n",
       "1   26                                  C7   234 EAST 4TH   STREET  ...   \n",
       "2   39                                  C7   197 EAST 3RD   STREET  ...   \n",
       "3   21                                  C4     154 EAST 7TH STREET  ...   \n",
       "4   55                                  C2  301 EAST 10TH   STREET  ...   \n",
       "\n",
       "  RESIDENTIAL UNITS  COMMERCIAL UNITS  TOTAL UNITS  LAND SQUARE FEET  \\\n",
       "0                 5                 0            5              1633   \n",
       "1                28                 3           31              4616   \n",
       "2                16                 1           17              2212   \n",
       "3                10                 0           10              2272   \n",
       "4                 6                 0            6              2369   \n",
       "\n",
       "   GROSS SQUARE FEET YEAR BUILT TAX CLASS AT TIME OF SALE  \\\n",
       "0               6440       1900                         2   \n",
       "1              18690       1900                         2   \n",
       "2               7803       1900                         2   \n",
       "3               6794       1913                         2   \n",
       "4               4615       1900                         2   \n",
       "\n",
       "   BUILDING CLASS AT TIME OF SALE  SALE PRICE            SALE DATE  \n",
       "0                              C2     6625000  2017-07-19 00:00:00  \n",
       "1                              C7         -    2016-12-14 00:00:00  \n",
       "2                              C7         -    2016-12-09 00:00:00  \n",
       "3                              C4     3936272  2016-09-23 00:00:00  \n",
       "4                              C2     8000000  2016-11-17 00:00:00  \n",
       "\n",
       "[5 rows x 22 columns]"
      ]
     },
     "execution_count": 4,
     "metadata": {},
     "output_type": "execute_result"
    }
   ],
   "source": [
    "df.head()"
   ]
  },
  {
   "cell_type": "code",
   "execution_count": 5,
   "id": "8fea8129",
   "metadata": {},
   "outputs": [
    {
     "data": {
      "text/plain": [
       "Unnamed: 0                        0\n",
       "BOROUGH                           0\n",
       "NEIGHBORHOOD                      0\n",
       "BUILDING CLASS CATEGORY           0\n",
       "TAX CLASS AT PRESENT              0\n",
       "BLOCK                             0\n",
       "LOT                               0\n",
       "EASE-MENT                         0\n",
       "BUILDING CLASS AT PRESENT         0\n",
       "ADDRESS                           0\n",
       "APARTMENT NUMBER                  0\n",
       "ZIP CODE                          0\n",
       "RESIDENTIAL UNITS                 0\n",
       "COMMERCIAL UNITS                  0\n",
       "TOTAL UNITS                       0\n",
       "LAND SQUARE FEET                  0\n",
       "GROSS SQUARE FEET                 0\n",
       "YEAR BUILT                        0\n",
       "TAX CLASS AT TIME OF SALE         0\n",
       "BUILDING CLASS AT TIME OF SALE    0\n",
       "SALE PRICE                        0\n",
       "SALE DATE                         0\n",
       "dtype: int64"
      ]
     },
     "execution_count": 5,
     "metadata": {},
     "output_type": "execute_result"
    }
   ],
   "source": [
    "#memeriksa apakah terdapat data yang kosong\n",
    "df.isnull().sum()"
   ]
  },
  {
   "cell_type": "code",
   "execution_count": 6,
   "id": "6fd33fd4",
   "metadata": {},
   "outputs": [
    {
     "data": {
      "text/html": [
       "<div>\n",
       "<style scoped>\n",
       "    .dataframe tbody tr th:only-of-type {\n",
       "        vertical-align: middle;\n",
       "    }\n",
       "\n",
       "    .dataframe tbody tr th {\n",
       "        vertical-align: top;\n",
       "    }\n",
       "\n",
       "    .dataframe thead th {\n",
       "        text-align: right;\n",
       "    }\n",
       "</style>\n",
       "<table border=\"1\" class=\"dataframe\">\n",
       "  <thead>\n",
       "    <tr style=\"text-align: right;\">\n",
       "      <th></th>\n",
       "      <th>Unnamed: 0</th>\n",
       "      <th>BOROUGH</th>\n",
       "      <th>BLOCK</th>\n",
       "      <th>LOT</th>\n",
       "      <th>ZIP CODE</th>\n",
       "      <th>RESIDENTIAL UNITS</th>\n",
       "      <th>COMMERCIAL UNITS</th>\n",
       "      <th>TOTAL UNITS</th>\n",
       "      <th>YEAR BUILT</th>\n",
       "      <th>TAX CLASS AT TIME OF SALE</th>\n",
       "    </tr>\n",
       "  </thead>\n",
       "  <tbody>\n",
       "    <tr>\n",
       "      <th>count</th>\n",
       "      <td>84548.000000</td>\n",
       "      <td>84548.000000</td>\n",
       "      <td>84548.000000</td>\n",
       "      <td>84548.000000</td>\n",
       "      <td>84548.000000</td>\n",
       "      <td>84548.000000</td>\n",
       "      <td>84548.000000</td>\n",
       "      <td>84548.000000</td>\n",
       "      <td>84548.000000</td>\n",
       "      <td>84548.000000</td>\n",
       "    </tr>\n",
       "    <tr>\n",
       "      <th>mean</th>\n",
       "      <td>10344.359878</td>\n",
       "      <td>2.998758</td>\n",
       "      <td>4237.218976</td>\n",
       "      <td>376.224015</td>\n",
       "      <td>10731.991614</td>\n",
       "      <td>2.025264</td>\n",
       "      <td>0.193559</td>\n",
       "      <td>2.249184</td>\n",
       "      <td>1789.322976</td>\n",
       "      <td>1.657485</td>\n",
       "    </tr>\n",
       "    <tr>\n",
       "      <th>std</th>\n",
       "      <td>7151.779436</td>\n",
       "      <td>1.289790</td>\n",
       "      <td>3568.263407</td>\n",
       "      <td>658.136814</td>\n",
       "      <td>1290.879147</td>\n",
       "      <td>16.721037</td>\n",
       "      <td>8.713183</td>\n",
       "      <td>18.972584</td>\n",
       "      <td>537.344993</td>\n",
       "      <td>0.819341</td>\n",
       "    </tr>\n",
       "    <tr>\n",
       "      <th>min</th>\n",
       "      <td>4.000000</td>\n",
       "      <td>1.000000</td>\n",
       "      <td>1.000000</td>\n",
       "      <td>1.000000</td>\n",
       "      <td>0.000000</td>\n",
       "      <td>0.000000</td>\n",
       "      <td>0.000000</td>\n",
       "      <td>0.000000</td>\n",
       "      <td>0.000000</td>\n",
       "      <td>1.000000</td>\n",
       "    </tr>\n",
       "    <tr>\n",
       "      <th>25%</th>\n",
       "      <td>4231.000000</td>\n",
       "      <td>2.000000</td>\n",
       "      <td>1322.750000</td>\n",
       "      <td>22.000000</td>\n",
       "      <td>10305.000000</td>\n",
       "      <td>0.000000</td>\n",
       "      <td>0.000000</td>\n",
       "      <td>1.000000</td>\n",
       "      <td>1920.000000</td>\n",
       "      <td>1.000000</td>\n",
       "    </tr>\n",
       "    <tr>\n",
       "      <th>50%</th>\n",
       "      <td>8942.000000</td>\n",
       "      <td>3.000000</td>\n",
       "      <td>3311.000000</td>\n",
       "      <td>50.000000</td>\n",
       "      <td>11209.000000</td>\n",
       "      <td>1.000000</td>\n",
       "      <td>0.000000</td>\n",
       "      <td>1.000000</td>\n",
       "      <td>1940.000000</td>\n",
       "      <td>2.000000</td>\n",
       "    </tr>\n",
       "    <tr>\n",
       "      <th>75%</th>\n",
       "      <td>15987.250000</td>\n",
       "      <td>4.000000</td>\n",
       "      <td>6281.000000</td>\n",
       "      <td>1001.000000</td>\n",
       "      <td>11357.000000</td>\n",
       "      <td>2.000000</td>\n",
       "      <td>0.000000</td>\n",
       "      <td>2.000000</td>\n",
       "      <td>1965.000000</td>\n",
       "      <td>2.000000</td>\n",
       "    </tr>\n",
       "    <tr>\n",
       "      <th>max</th>\n",
       "      <td>26739.000000</td>\n",
       "      <td>5.000000</td>\n",
       "      <td>16322.000000</td>\n",
       "      <td>9106.000000</td>\n",
       "      <td>11694.000000</td>\n",
       "      <td>1844.000000</td>\n",
       "      <td>2261.000000</td>\n",
       "      <td>2261.000000</td>\n",
       "      <td>2017.000000</td>\n",
       "      <td>4.000000</td>\n",
       "    </tr>\n",
       "  </tbody>\n",
       "</table>\n",
       "</div>"
      ],
      "text/plain": [
       "         Unnamed: 0       BOROUGH         BLOCK           LOT      ZIP CODE  \\\n",
       "count  84548.000000  84548.000000  84548.000000  84548.000000  84548.000000   \n",
       "mean   10344.359878      2.998758   4237.218976    376.224015  10731.991614   \n",
       "std     7151.779436      1.289790   3568.263407    658.136814   1290.879147   \n",
       "min        4.000000      1.000000      1.000000      1.000000      0.000000   \n",
       "25%     4231.000000      2.000000   1322.750000     22.000000  10305.000000   \n",
       "50%     8942.000000      3.000000   3311.000000     50.000000  11209.000000   \n",
       "75%    15987.250000      4.000000   6281.000000   1001.000000  11357.000000   \n",
       "max    26739.000000      5.000000  16322.000000   9106.000000  11694.000000   \n",
       "\n",
       "       RESIDENTIAL UNITS  COMMERCIAL UNITS   TOTAL UNITS    YEAR BUILT  \\\n",
       "count       84548.000000      84548.000000  84548.000000  84548.000000   \n",
       "mean            2.025264          0.193559      2.249184   1789.322976   \n",
       "std            16.721037          8.713183     18.972584    537.344993   \n",
       "min             0.000000          0.000000      0.000000      0.000000   \n",
       "25%             0.000000          0.000000      1.000000   1920.000000   \n",
       "50%             1.000000          0.000000      1.000000   1940.000000   \n",
       "75%             2.000000          0.000000      2.000000   1965.000000   \n",
       "max          1844.000000       2261.000000   2261.000000   2017.000000   \n",
       "\n",
       "       TAX CLASS AT TIME OF SALE  \n",
       "count               84548.000000  \n",
       "mean                    1.657485  \n",
       "std                     0.819341  \n",
       "min                     1.000000  \n",
       "25%                     1.000000  \n",
       "50%                     2.000000  \n",
       "75%                     2.000000  \n",
       "max                     4.000000  "
      ]
     },
     "execution_count": 6,
     "metadata": {},
     "output_type": "execute_result"
    }
   ],
   "source": [
    "#melihat statistik dari data yang dimasukkan\n",
    "df.describe()"
   ]
  },
  {
   "cell_type": "code",
   "execution_count": 7,
   "id": "f013a3f1",
   "metadata": {},
   "outputs": [],
   "source": [
    "# Konversi kolom 'SALE PRICE' ke tipe data numerik\n",
    "df['SALE PRICE'] = pd.to_numeric(df['SALE PRICE'], errors='coerce')\n",
    "\n",
    "# Konversi kolom 'SALE DATE' ke tipe data datetime\n",
    "df['SALE DATE'] = pd.to_datetime(df['SALE DATE'], format='%Y-%m-%d %H:%M:%S')"
   ]
  },
  {
   "cell_type": "code",
   "execution_count": 8,
   "id": "0ec4746f",
   "metadata": {},
   "outputs": [
    {
     "name": "stdout",
     "output_type": "stream",
     "text": [
      "<class 'pandas.core.frame.DataFrame'>\n",
      "RangeIndex: 84548 entries, 0 to 84547\n",
      "Data columns (total 22 columns):\n",
      " #   Column                          Non-Null Count  Dtype         \n",
      "---  ------                          --------------  -----         \n",
      " 0   Unnamed: 0                      84548 non-null  int64         \n",
      " 1   BOROUGH                         84548 non-null  int64         \n",
      " 2   NEIGHBORHOOD                    84548 non-null  object        \n",
      " 3   BUILDING CLASS CATEGORY         84548 non-null  object        \n",
      " 4   TAX CLASS AT PRESENT            84548 non-null  object        \n",
      " 5   BLOCK                           84548 non-null  int64         \n",
      " 6   LOT                             84548 non-null  int64         \n",
      " 7   EASE-MENT                       84548 non-null  object        \n",
      " 8   BUILDING CLASS AT PRESENT       84548 non-null  object        \n",
      " 9   ADDRESS                         84548 non-null  object        \n",
      " 10  APARTMENT NUMBER                84548 non-null  object        \n",
      " 11  ZIP CODE                        84548 non-null  int64         \n",
      " 12  RESIDENTIAL UNITS               84548 non-null  int64         \n",
      " 13  COMMERCIAL UNITS                84548 non-null  int64         \n",
      " 14  TOTAL UNITS                     84548 non-null  int64         \n",
      " 15  LAND SQUARE FEET                84548 non-null  object        \n",
      " 16  GROSS SQUARE FEET               84548 non-null  object        \n",
      " 17  YEAR BUILT                      84548 non-null  int64         \n",
      " 18  TAX CLASS AT TIME OF SALE       84548 non-null  int64         \n",
      " 19  BUILDING CLASS AT TIME OF SALE  84548 non-null  object        \n",
      " 20  SALE PRICE                      69987 non-null  float64       \n",
      " 21  SALE DATE                       84548 non-null  datetime64[ns]\n",
      "dtypes: datetime64[ns](1), float64(1), int64(10), object(10)\n",
      "memory usage: 14.2+ MB\n"
     ]
    }
   ],
   "source": [
    "#memeriksa tipe kolom pada data\n",
    "df.info()"
   ]
  },
  {
   "cell_type": "code",
   "execution_count": 9,
   "id": "d5065ae7",
   "metadata": {},
   "outputs": [],
   "source": [
    "#Membagi dataset menjadi dua kelompok\n",
    "property_1900_to_2000 = df[(df['YEAR BUILT'] >= 1900) & (df['YEAR BUILT'] <= 2000)]\n",
    "propertyabove_2001= df[df['YEAR BUILT'] >= 2001]\n",
    "\n",
    "#Definisikan kelompok\n",
    "property_1 = property_1900_to_2000\n",
    "property_2 = propertyabove_2001"
   ]
  },
  {
   "cell_type": "markdown",
   "id": "776f1b64",
   "metadata": {},
   "source": [
    "### Mean"
   ]
  },
  {
   "cell_type": "code",
   "execution_count": 10,
   "id": "37d99ba7",
   "metadata": {},
   "outputs": [
    {
     "name": "stdout",
     "output_type": "stream",
     "text": [
      "Mean Units for Properties Built 1900-2000: 2.432037617554859\n",
      "Mean Units for Properties Built 2001 and Onwards: 2.2001194743130226\n"
     ]
    }
   ],
   "source": [
    "# Mencari nilai mean\n",
    "mean_property_1= property_1['TOTAL UNITS'].mean()\n",
    "mean_property_2 = property_2['TOTAL UNITS'].mean()\n",
    "\n",
    "# Tampilkan\n",
    "print(\"Mean Units for Properties Built 1900-2000:\", mean_property_1)\n",
    "print(\"Mean Units for Properties Built 2001 and Onwards:\", mean_property_2)"
   ]
  },
  {
   "cell_type": "markdown",
   "id": "fd527fd8",
   "metadata": {},
   "source": [
    "### Median"
   ]
  },
  {
   "cell_type": "code",
   "execution_count": 11,
   "id": "1df0fc1e",
   "metadata": {},
   "outputs": [
    {
     "name": "stdout",
     "output_type": "stream",
     "text": [
      "median Units for Properties Built 1900-2000: 1.0\n",
      "median Units for Properties Built 2001 and Onwards: 1.0\n"
     ]
    }
   ],
   "source": [
    "# Mencari nilai median\n",
    "median_property_1 = property_1['TOTAL UNITS'].median()\n",
    "median_property_2 = property_2['TOTAL UNITS'].median()\n",
    "\n",
    "# Tampilkan\n",
    "print(\"median Units for Properties Built 1900-2000:\", median_property_1)\n",
    "print(\"median Units for Properties Built 2001 and Onwards:\", median_property_2)"
   ]
  },
  {
   "cell_type": "markdown",
   "id": "7585bf6a",
   "metadata": {},
   "source": [
    "### Modus"
   ]
  },
  {
   "cell_type": "code",
   "execution_count": 12,
   "id": "816ada11",
   "metadata": {},
   "outputs": [
    {
     "name": "stdout",
     "output_type": "stream",
     "text": [
      "Modus Units for Properties Built 1900-2000: 0    1\n",
      "Name: TOTAL UNITS, dtype: int64\n",
      "Modus Units for Properties Built 2001 and Onwards: 0    1\n",
      "Name: TOTAL UNITS, dtype: int64\n"
     ]
    }
   ],
   "source": [
    "# Mencari nilai modus\n",
    "mode_property_1 = property_1['TOTAL UNITS'].mode()\n",
    "mode_property_2 = property_2['TOTAL UNITS'].mode()\n",
    "\n",
    "# Tampilkan\n",
    "print(\"Modus Units for Properties Built 1900-2000:\", mode_property_1)\n",
    "print(\"Modus Units for Properties Built 2001 and Onwards:\", mode_property_2)"
   ]
  },
  {
   "cell_type": "markdown",
   "id": "aa32aa4f",
   "metadata": {},
   "source": [
    "### Range"
   ]
  },
  {
   "cell_type": "code",
   "execution_count": 13,
   "id": "2b8f515d",
   "metadata": {},
   "outputs": [
    {
     "name": "stdout",
     "output_type": "stream",
     "text": [
      "Range Units for Properties Built 1900-2000\n",
      "Minimum Value: 0\n",
      "Maximum Value: 2261\n",
      "Range: 2261\n",
      "Range Units for Properties Built 2001 and Onwards\n",
      "Minimum Value: 0\n",
      "Maximum Value: 551\n",
      "Range: 551\n"
     ]
    }
   ],
   "source": [
    "# Menghitung nilai max dan min tahun 1900-2000\n",
    "min_value_1 = property_1['TOTAL UNITS'].min()\n",
    "max_value_1 = property_1['TOTAL UNITS'].max()\n",
    "\n",
    "# Menghitung nilai max dan min tahun 2001 keatas\n",
    "min_value_2 = property_2['TOTAL UNITS'].min()\n",
    "max_value_2 = property_2['TOTAL UNITS'].max()\n",
    "\n",
    "# Menghitung range\n",
    "data_range_property_1 = max_value_1 - min_value_1\n",
    "data_range_property_2 = max_value_2 - min_value_2\n",
    "\n",
    "# Tampilkan\n",
    "print(\"Range Units for Properties Built 1900-2000\")\n",
    "print(\"Minimum Value:\", min_value_1)\n",
    "print(\"Maximum Value:\", max_value_1)\n",
    "print(\"Range:\", data_range_property_1)\n",
    "\n",
    "print(\"Range Units for Properties Built 2001 and Onwards\")\n",
    "print(\"Minimum Value:\", min_value_2)\n",
    "print(\"Maximum Value:\", max_value_2)\n",
    "print(\"Range:\", data_range_property_2)"
   ]
  },
  {
   "cell_type": "markdown",
   "id": "96cb07c6",
   "metadata": {},
   "source": [
    "### Varian"
   ]
  },
  {
   "cell_type": "code",
   "execution_count": 14,
   "id": "c637ce14",
   "metadata": {},
   "outputs": [
    {
     "name": "stdout",
     "output_type": "stream",
     "text": [
      "Varian dari 'TOTAL UNITS': 359.95896003024995\n",
      "Varian dari 'TOTAL UNITS' tahun 1900-2000: 439.0597864399042\n",
      "Varian dari 'TOTAL UNITS' tahun 2001 keatas: 191.27163265619595\n"
     ]
    }
   ],
   "source": [
    "# Menghitung varian\n",
    "variance_total = df['TOTAL UNITS'].var()\n",
    "variance_1 = property_1['TOTAL UNITS'].var()\n",
    "variance_2 = property_2['TOTAL UNITS'].var()\n",
    "\n",
    "# Tampilkan\n",
    "print(\"Varian dari 'TOTAL UNITS':\", variance_total)\n",
    "print(\"Varian dari 'TOTAL UNITS' tahun 1900-2000:\", variance_1)\n",
    "print(\"Varian dari 'TOTAL UNITS' tahun 2001 keatas:\", variance_2)"
   ]
  },
  {
   "cell_type": "markdown",
   "id": "4f85a6cb",
   "metadata": {},
   "source": [
    "### Standard Deviasi"
   ]
  },
  {
   "cell_type": "code",
   "execution_count": 37,
   "id": "dc15c80e",
   "metadata": {},
   "outputs": [
    {
     "name": "stdout",
     "output_type": "stream",
     "text": [
      "Standard Deviation of 'TOTAL UNITS' for the year range 1900-2000: 20.9537535167307\n",
      "Standard Deviation of 'TOTAL UNITS' for the year range 2001 and later: 13.830098794158918\n"
     ]
    }
   ],
   "source": [
    "# Filter data untuk tahun 1900-2000\n",
    "data_1900_2000 = df[(df['YEAR BUILT'] >= 1900) & (df['YEAR BUILT'] <= 2000)]\n",
    "\n",
    "# Filter data untuk tahun 2001 keatas\n",
    "data_2001_above = df[df['YEAR BUILT'] >= 2001]\n",
    "\n",
    "# menghitung standard deviasi\n",
    "std_dev_1900_2000 = np.std(data_1900_2000['TOTAL UNITS'], ddof=1)\n",
    "std_dev_2001_above = np.std(data_2001_above['TOTAL UNITS'], ddof=1)\n",
    "\n",
    "# cetak hasil\n",
    "print(f\"Standard Deviation of 'TOTAL UNITS' for the year range 1900-2000: {std_dev_1900_2000}\")\n",
    "print(f\"Standard Deviation of 'TOTAL UNITS' for the year range 2001 and later: {std_dev_2001_above}\")"
   ]
  },
  {
   "cell_type": "markdown",
   "id": "78028396",
   "metadata": {},
   "source": [
    "### Distribusi Data"
   ]
  },
  {
   "cell_type": "code",
   "execution_count": 16,
   "id": "cb59cc70",
   "metadata": {},
   "outputs": [
    {
     "data": {
      "image/png": "[encoded data removed]",
      "text/plain": [
       "<Figure size 1200x600 with 2 Axes>"
      ]
     },
     "metadata": {},
     "output_type": "display_data"
    }
   ],
   "source": [
    "import matplotlib.pyplot as plt\n",
    "\n",
    "# buat histograms\n",
    "plt.figure(figsize=(12, 6))  # Adjust the figure size as needed\n",
    "\n",
    "# Plot histograms untuk property_1\n",
    "plt.subplot(1, 2, 1)\n",
    "plt.hist(property_1['TOTAL UNITS'], bins=20, color='skyblue', edgecolor='black')\n",
    "plt.xlabel('TOTAL UNITS')\n",
    "plt.ylabel('Frequency')\n",
    "plt.title('Distribution of TOTAL UNITS for Property_1')\n",
    "\n",
    "# Plot histograms untuk property_2\n",
    "plt.subplot(1, 2, 2)\n",
    "plt.hist(property_2['TOTAL UNITS'], bins=20, color='salmon', edgecolor='black')\n",
    "plt.xlabel('TOTAL UNITS')\n",
    "plt.ylabel('Frequency')\n",
    "plt.title('Distribution of TOTAL UNITS for Property_2')\n",
    "\n",
    "plt.tight_layout() \n",
    "plt.show()"
   ]
  },
  {
   "cell_type": "markdown",
   "id": "4fb772a9",
   "metadata": {},
   "source": [
    "### Confident Intervals"
   ]
  },
  {
   "cell_type": "code",
   "execution_count": 38,
   "id": "352eb840",
   "metadata": {},
   "outputs": [
    {
     "name": "stdout",
     "output_type": "stream",
     "text": [
      "95% Confidence Interval for 'TOTAL UNITS' tahun 1900-2000: (2.269442379625782, 2.594632855483936)\n",
      "95% Confidence Interval for 'TOTAL UNITS' tahun 2001 ke atas: (1.9496865115667386, 2.4505524370593066)\n"
     ]
    }
   ],
   "source": [
    "import scipy.stats as stats\n",
    "\n",
    "# Filter data untuk tahun 1900-2000\n",
    "data_1900_2000 = df[(df['YEAR BUILT'] >= 1900) & (df['YEAR BUILT'] <= 2000)]\n",
    "\n",
    "# Filter data untuk tahun 2001 keatas\n",
    "data_2001_above = df[df['YEAR BUILT'] >= 2001]\n",
    "\n",
    "# confident intervals\n",
    "confidence_level = 0.95  # tingkat kepercayaan 95%\n",
    "\n",
    "# Fungsi untuk menghitung confidence interval\n",
    "def calculate_confidence_interval(data):\n",
    "    mean = np.mean(data)\n",
    "    std = np.std(data, ddof=1)\n",
    "    n = len(data)\n",
    "    margin_of_error = stats.t.ppf((1 + confidence_level) / 2, df=n-1) * (std / np.sqrt(n))\n",
    "    lower_bound = mean - margin_of_error\n",
    "    upper_bound = mean + margin_of_error\n",
    "    return lower_bound, upper_bound\n",
    "\n",
    "# Hitung confidence interval untuk rentang tahun 1900-2000\n",
    "ci_1900_2000 = calculate_confidence_interval(data_1900_2000['TOTAL UNITS'])\n",
    "\n",
    "# Hitung confidence interval untuk rentang tahun 2001 ke atas\n",
    "ci_2001_above = calculate_confidence_interval(data_2001_above['TOTAL UNITS'])\n",
    "\n",
    "# Cetak hasil\n",
    "print(f\"{int(confidence_level * 100)}% Confidence Interval for 'TOTAL UNITS' tahun 1900-2000: {ci_1900_2000}\")\n",
    "print(f\"{int(confidence_level * 100)}% Confidence Interval for 'TOTAL UNITS' tahun 2001 ke atas: {ci_2001_above}\")"
   ]
  },
  {
   "cell_type": "markdown",
   "id": "dfeb08d1",
   "metadata": {},
   "source": [
    "## Hipotesis"
   ]
  },
  {
   "cell_type": "markdown",
   "id": "bf396047",
   "metadata": {},
   "source": [
    "### Hipotesis Nol (H0): Tidak ada perbedaan yang signifikan dalam rata-rata 'TOTAL UNITS' antara tahun 1900-2000 dan tahun 2001 ke atas pada properti-properti dalam dataset ini.\n",
    "### Hipotesis Alternatif (H1): Terdapat perbedaan yang signifikan dalam rata-rata 'TOTAL UNITS' antara tahun 1900-2000 dan tahun 2001 ke atas pada properti-properti dalam dataset ini."
   ]
  },
  {
   "cell_type": "markdown",
   "id": "461558a8",
   "metadata": {},
   "source": [
    "## Kesimpulan"
   ]
  },
  {
   "cell_type": "markdown",
   "id": "a4cb93af",
   "metadata": {},
   "source": [
    "###  Rata-rata jumlah unit untuk properti yang dibangun antara tahun 1900-2000 adalah sekitar 2.43, sedangkan rata-rata untuk properti yang dibangun pada tahun 2001 ke atas adalah sekitar 2.20.\n",
    "### Median jumlah unit untuk kedua rentang tahun adalah 1, yang menunjukkan bahwa sebagian besar properti memiliki satu unit.\n",
    "### Modus (nilai paling sering muncul) jumlah unit untuk kedua rentang tahun adalah 1.\n",
    "### Rentang (perbedaan antara nilai maksimum dan minimum) jumlah unit untuk properti yang dibangun antara tahun 1900-2000 lebih besar (2261) daripada properti yang dibangun pada tahun 2001 ke atas (551).\n",
    "###  Varians untuk properti yang dibangun antara tahun 1900-2000 lebih tinggi (439.06) dibandingkan dengan tahun 2001 ke atas (191.27). Deviasi standar mengikuti pola yang sama, dengan deviasi standar yang lebih tinggi untuk tahun 1900-2000.\n",
    "### Dalam tingkat kepercayaan 95%, confidence interval untuk tahun 1900-2000 adalah (2.27, 2.59), sedangkan untuk tahun 2001 ke atas adalah (1.95, 2.45).\n",
    "### Berdasarkan analisis ini, terlihat bukti statistik yang cukup untuk menolak hipotesis nol. Ini berarti bahwa terdapat perbedaan yang signifikan dalam rata-rata 'TOTAL UNITS' antara tahun 1900-2000 dan tahun 2001 ke atas pada properti-properti dalam dataset ini."
   ]
  },
  {
   "cell_type": "code",
   "execution_count": null,
   "id": "124e8ecf",
   "metadata": {},
   "outputs": [],
   "source": []
  }
 ],
 "metadata": {
  "kernelspec": {
   "display_name": "Python 3 (ipykernel)",
   "language": "python",
   "name": "python3"
  },
  "language_info": {
   "codemirror_mode": {
    "name": "ipython",
    "version": 3
   },
   "file_extension": ".py",
   "mimetype": "text/x-python",
   "name": "python",
   "nbconvert_exporter": "python",
   "pygments_lexer": "ipython3",
   "version": "3.11.4"
  }
 },
 "nbformat": 4,
 "nbformat_minor": 5
}
